{
  "nbformat": 4,
  "nbformat_minor": 0,
  "metadata": {
    "colab": {
      "provenance": []
    },
    "kernelspec": {
      "name": "python3",
      "display_name": "Python 3"
    },
    "language_info": {
      "name": "python"
    }
  },
  "cells": [
    {
      "cell_type": "markdown",
      "source": [
        "$f(x,y) = - \\left(\\dfrac{3}{(x^2+ 8)} + \\dfrac{5}{(y^2+ 8)}\\right)$\n"
      ],
      "metadata": {
        "id": "dCFqXFm2nQKT"
      }
    },
    {
      "cell_type": "markdown",
      "source": [
        "#Двуслойная нейросеть. Вариант 29 (PReLU,Гиперболический тангенс,SGD) Едленко 4к. 6г."
      ],
      "metadata": {
        "id": "ZSRjyHGMnjtj"
      }
    },
    {
      "cell_type": "code",
      "source": [
        "import numpy as np\n",
        "import torch\n",
        "import matplotlib.pyplot as plt\n",
        "from matplotlib import cm\n",
        "import time\n",
        "import math\n",
        "import pickle\n",
        "import os.path\n",
        "\n",
        "from keras.utils import to_categorical\n",
        "from keras import models\n",
        "from keras import layers"
      ],
      "metadata": {
        "id": "0J_hsBu5njJh"
      },
      "execution_count": 223,
      "outputs": []
    },
    {
      "cell_type": "code",
      "source": [
        "def prelu(x, alpha):\n",
        "    return np.where( x < 0, alpha * x, x)\n",
        "\n",
        "def prelu_diff(x, alpha):\n",
        "    return np.where(x < 0, np.ones(x.shape) * alpha, np.ones(x.shape))\n",
        "\n",
        "def sigmoid(x):\n",
        "    return 1/(1 + np.exp(-x))\n",
        "\n",
        "def sigmoid_diff(y):\n",
        "    return y*(1 - y)\n",
        "\n",
        "def tanh(x):\n",
        "    return 2 * sigmoid(2*x) - 1\n",
        "\n",
        "def tanh_diff(x):\n",
        "    return 1 - tanh(x)**2\n",
        "\n"
      ],
      "metadata": {
        "id": "vDxpBj5Lnlia"
      },
      "execution_count": 224,
      "outputs": []
    },
    {
      "cell_type": "code",
      "source": [
        "from numpy.lib import math\n",
        "class NeuralNetwork_two:\n",
        "    def __init__(self, x, y): #  объём датасета\n",
        "        self.input      = x \n",
        "        self.y          = y \n",
        "        self.diam_1     = 8\n",
        "        self.diam_2     = 6\n",
        "        self.weights1   = np.random.rand(self.diam_1, self.input.shape[0]) \n",
        "        self.weights2   = np.random.rand(self.diam_2, self.diam_1) \n",
        "        self.weights3   = np.random.rand(1, self.diam_2) # \n",
        "        self.output     = np.zeros(self.y.shape) \n",
        "        self.alpha      = 0.3\n",
        "        self.bias_1     = np.random.rand(self.diam_1, 1)\n",
        "        self.bias_2     = np.random.rand(self.diam_2, 1)\n",
        "        self.b          = np.random.rand()\n",
        "        \n",
        "    def feedforward(self):\n",
        "        self.layer1 = prelu(np.dot(self.weights1, self.input) + self.bias_1, self.alpha) \n",
        "        self.layer2 = tanh(np.dot(self.weights2, self.layer1) + self.bias_2) \n",
        "        self.output = np.dot(self.weights3, self.layer2) + self.b\n",
        "        \n",
        "    def backprop(self):\n",
        "        d_weights3 = 2*np.dot((self.y - self.output),self.layer2.T) \n",
        "        d_weights2 = 2*self.weights3.T*np.dot((self.y - self.output)*prelu_diff(self.layer2, self.alpha),self.layer1.T )\n",
        "        d_weights1 = 2*np.dot(np.dot(self.weights3*self.weights2.T,(self.y - self.output)*prelu_diff(self.layer2, self.alpha))*prelu_diff(self.layer1, self.alpha),self.input.T)\n",
        "        d_bias_2   = 2*self.weights3.T*np.dot(prelu_diff(self.layer2, self.alpha), (self.y - self.output).T)\n",
        "        d_bias_1   = 2*np.dot(np.dot(self.weights3*self.weights2.T,prelu_diff(self.layer2, self.alpha))*prelu_diff(self.layer1, self.alpha), (self.y - self.output).T)\n",
        "        d_b        = 2*(self.y - self.output).sum()\n",
        "\n",
        "\n",
        "        self.weights1 += self.alpha * d_weights1/self.input.shape[1]\n",
        "        self.weights2 += self.alpha * d_weights2/self.input.shape[1]\n",
        "        self.weights3 += self.alpha * d_weights3/self.input.shape[1]\n",
        "        self.bias_1   += self.alpha * d_bias_1/self.input.shape[1]\n",
        "        self.bias_2   += self.alpha * d_bias_2/self.input.shape[1]\n",
        "        self.b        += self.alpha * d_b/self.input.shape[1]\n",
        "\n",
        "    def test(self, t):\n",
        "      sizeX = int(math.sqrt(t.shape[1])) #Размерность матрицы по X и Y\n",
        "      return (np.dot(self.weights3, tanh(np.dot(self.weights2, prelu(np.dot(self.weights1, t) + self.bias_1, self.alpha)) + self.bias_2)) + self.b)\n"
      ],
      "metadata": {
        "id": "QVbmLgJRnpsX"
      },
      "execution_count": 225,
      "outputs": []
    },
    {
      "cell_type": "code",
      "source": [
        "def avgErr(y_true, y_pred):\n",
        "      return ((y_true - y_pred) ** 2).mean()"
      ],
      "metadata": {
        "id": "pGKoeC3gn3ZR"
      },
      "execution_count": 226,
      "outputs": []
    },
    {
      "cell_type": "code",
      "source": [
        "def func(x,y):\n",
        "    return -((3 / (x*x + 8)) + (5 / (y*y + 8)))"
      ],
      "metadata": {
        "id": "bQv1THGNpWgQ"
      },
      "execution_count": 227,
      "outputs": []
    },
    {
      "cell_type": "code",
      "source": [
        "dim_x = 100\n",
        "#XY = np.random.uniform(-20, 20, 2*dim_x)\n",
        "#XY.shape = (2,dim_x)\n",
        "#X1 , Y1 = XY\n",
        "X = np.arange(-20, 20, 1)\n",
        "Y = np.arange(-20, 20, 1)\n",
        "X, Y = np.meshgrid(X, Y)\n",
        "X1, Y1 = X.ravel(), Y.ravel()\n",
        "Z1 = func(X1, Y1)\n",
        "\n",
        "dataset = np.array([X1, Y1])\n"
      ],
      "metadata": {
        "id": "hI-B0HuHprsX"
      },
      "execution_count": 228,
      "outputs": []
    },
    {
      "cell_type": "code",
      "source": [
        "Xd = np.array([X1,Y1])\n",
        "Xd.shape"
      ],
      "metadata": {
        "colab": {
          "base_uri": "https://localhost:8080/"
        },
        "id": "n1_g89eDpwr4",
        "outputId": "d5a01c6d-f9b1-46c2-9baf-5327106288cb"
      },
      "execution_count": 229,
      "outputs": [
        {
          "output_type": "execute_result",
          "data": {
            "text/plain": [
              "(2, 1600)"
            ]
          },
          "metadata": {},
          "execution_count": 229
        }
      ]
    },
    {
      "cell_type": "code",
      "source": [
        "Zd = np.array([list(Z1)])\n",
        "Zd.shape"
      ],
      "metadata": {
        "colab": {
          "base_uri": "https://localhost:8080/"
        },
        "id": "a7Jc7S-Np-Dk",
        "outputId": "3d3b9d01-fb78-4af1-cf54-57a65ca40391"
      },
      "execution_count": 230,
      "outputs": [
        {
          "output_type": "execute_result",
          "data": {
            "text/plain": [
              "(1, 1600)"
            ]
          },
          "metadata": {},
          "execution_count": 230
        }
      ]
    },
    {
      "cell_type": "code",
      "source": [
        "z = NeuralNetwork_two(Xd,Zd)\n",
        "\n",
        "# print(z.test(Xd))\n",
        "# print(Z1)\n",
        "\n",
        "z.alpha = 0.003\n",
        "avg_pred = 0\n"
      ],
      "metadata": {
        "id": "Bk1ek-E3p-o2"
      },
      "execution_count": 231,
      "outputs": []
    },
    {
      "cell_type": "code",
      "source": [
        "for i in range(10000000):\n",
        "    z.feedforward()\n",
        "    z.backprop()\n",
        " \n",
        "    if i % 1000 == 0:\n",
        "      avg = avgErr(Zd, z.test(Xd))\n",
        "      if (np.absolute(avg_pred - avg) < 0.001) and z.alpha > 0.00001:\n",
        "        z.alpha /= 2    \n",
        "      avg_pred = avg\n",
        "      print('avg:', avg)\n",
        "    if avg < 0.0001:\n",
        "      break\n",
        "\n"
      ],
      "metadata": {
        "id": "vLjWQvYpqO_9",
        "colab": {
          "base_uri": "https://localhost:8080/"
        },
        "outputId": "82ff5347-b144-43e5-fd3a-a18740e9eb91"
      },
      "execution_count": null,
      "outputs": [
        {
          "output_type": "stream",
          "name": "stdout",
          "text": [
            "avg: 11.49547830752336\n",
            "avg: 0.02400831375884663\n",
            "avg: 0.028973218109933762\n",
            "avg: 0.011257855171895344\n",
            "avg: 0.010310252263486683\n",
            "avg: 0.010082793642749657\n",
            "avg: 0.009946485573843453\n",
            "avg: 0.00987501056394018\n",
            "avg: 0.009833881111418133\n",
            "avg: 0.00981345740521255\n",
            "avg: 0.00980269422637564\n",
            "avg: 0.009798204471898594\n",
            "avg: 0.009796173732948865\n",
            "avg: 0.00979523235840044\n",
            "avg: 0.009794268959640189\n",
            "avg: 0.009793296091549539\n",
            "avg: 0.00979232952883669\n",
            "avg: 0.009791300035025189\n",
            "avg: 0.009790180905381658\n",
            "avg: 0.009789058113653106\n",
            "avg: 0.009787905147513525\n",
            "avg: 0.009786718979441665\n",
            "avg: 0.009785497382828067\n",
            "avg: 0.009784361805709102\n",
            "avg: 0.009783198567826832\n",
            "avg: 0.0097820036408469\n",
            "avg: 0.009780779358692964\n",
            "avg: 0.009779507310298956\n",
            "avg: 0.00977818514795606\n",
            "avg: 0.009776868108036591\n",
            "avg: 0.009775658399328509\n",
            "avg: 0.009774426130263091\n",
            "avg: 0.009773169887351763\n",
            "avg: 0.009771889635411696\n"
          ]
        }
      ]
    },
    {
      "cell_type": "code",
      "source": [
        "fig = plt.figure(figsize=plt.figaspect(0.5))\n",
        "\n",
        "ax = fig.add_subplot(1, 2, 1, projection='3d')\n",
        "X = np.arange(-20, 20, 0.25)\n",
        "Y = np.arange(-20, 20, 0.25)\n",
        "X, Y = np.meshgrid(X, Y)\n",
        "Z = func(X, Y)\n",
        "#X, Y, Z = get_test_data(0.05)\n",
        "ax.plot_surface(X, Y, Z, rstride=1, cstride=1, cmap=cm.coolwarm,\n",
        "                       linewidth=0, antialiased=False)\n",
        "ax = fig.add_subplot(1, 2, 2, projection='3d')\n",
        "\n",
        "ax.plot_wireframe(X, Y, Z, rstride=10, cstride=10)\n"
      ],
      "metadata": {
        "id": "vmyMoDivqTVH"
      },
      "execution_count": null,
      "outputs": []
    },
    {
      "cell_type": "code",
      "source": [
        "fig_2 = plt.figure(figsize=plt.figaspect(0.5))\n",
        "\n",
        "ax_2 = fig_2.add_subplot(1, 2, 1, projection='3d')\n",
        "X = np.arange(-20, 20.25, 0.25)\n",
        "Y = np.arange(-20, 20.25, 0.25)\n",
        "X, Y = np.meshgrid(X, Y)\n",
        "\n",
        "Z = z.test(np.array([X.ravel(),Y.ravel()])).reshape((161,161))\n",
        "\n",
        "ax_2.plot_surface(X, Y, Z, rstride=1, cstride=1, cmap=cm.coolwarm,\n",
        "                       linewidth=0, antialiased=False)\n",
        "ax_2 = fig_2.add_subplot(1, 2, 2, projection='3d')\n",
        "\n",
        "ax_2.plot_wireframe(X, Y, Z, rstride=10, cstride=10)"
      ],
      "metadata": {
        "id": "BEnbalEBqXc_"
      },
      "execution_count": null,
      "outputs": []
    }
  ]
}